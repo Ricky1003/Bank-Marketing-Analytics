{
 "cells": [
  {
   "cell_type": "markdown",
   "metadata": {
    "colab_type": "text",
    "id": "eASNvREtBU9G"
   },
   "source": [
    "# Import Spark"
   ]
  },
  {
   "cell_type": "code",
   "execution_count": 1,
   "metadata": {
    "cellView": "code",
    "colab": {
     "base_uri": "https://localhost:8080/",
     "height": 64
    },
    "colab_type": "code",
    "id": "duCJfMrnGu00",
    "outputId": "0cd2dfbe-1383-40cf-e7ea-17d4e6a2a0c6"
   },
   "outputs": [
    {
     "name": "stdout",
     "output_type": "stream",
     "text": [
      "Requirement already satisfied: wget in /usr/local/lib/python3.6/dist-packages (3.2)\n"
     ]
    }
   ],
   "source": [
    "!pip install wget\n",
    "!apt-get install openjdk-8-jdk-headless -qq > /dev/null\n",
    "!wget -q https://archive.apache.org/dist/spark/spark-2.4.0/spark-2.4.0-bin-hadoop2.7.tgz\n",
    "!tar xf spark-2.4.0-bin-hadoop2.7.tgz\n",
    "!pip install -q findspark\n",
    "import os\n",
    "os.environ[\"JAVA_HOME\"] = \"/usr/lib/jvm/java-8-openjdk-amd64\"\n",
    "os.environ[\"SPARK_HOME\"] = \"/content/spark-2.4.0-bin-hadoop2.7\""
   ]
  },
  {
   "cell_type": "code",
   "execution_count": 0,
   "metadata": {
    "colab": {},
    "colab_type": "code",
    "id": "aGOo805LA-fM"
   },
   "outputs": [],
   "source": [
    "import findspark\n",
    "findspark.init()\n",
    "from pyspark.sql import SparkSession "
   ]
  },
  {
   "cell_type": "markdown",
   "metadata": {
    "colab_type": "text",
    "id": "K7bEtO_fBZmE"
   },
   "source": [
    "# Read and check data"
   ]
  },
  {
   "cell_type": "code",
   "execution_count": 0,
   "metadata": {
    "colab": {},
    "colab_type": "code",
    "id": "EADPspOv0Auh"
   },
   "outputs": [],
   "source": [
    "import wget\n",
    "link_to_data = 'https://github.com/tulip-lab/sit742/raw/master/Assessment/2019/data/bank.csv'\n",
    "DataSet = wget.download(link_to_data)"
   ]
  },
  {
   "cell_type": "code",
   "execution_count": 4,
   "metadata": {
    "colab": {
     "base_uri": "https://localhost:8080/",
     "height": 152
    },
    "colab_type": "code",
    "id": "tiM-PiiR0Aup",
    "outputId": "e05fda87-7ea2-443a-c585-85f0db0818f5"
   },
   "outputs": [
    {
     "name": "stdout",
     "output_type": "stream",
     "text": [
      "'bank (1).csv'\t\t     spark-2.4.0-bin-hadoop2.7.tgz\n",
      "'bank (2).csv'\t\t     spark-2.4.0-bin-hadoop2.7.tgz.1\n",
      "'bank (3).csv'\t\t     spark-2.4.0-bin-hadoop2.7.tgz.2\n",
      " bank.csv\t\t     spark-2.4.0-bin-hadoop2.7.tgz.3\n",
      " sample_data\t\t     spark-warehouse\n",
      " spark-2.4.0-bin-hadoop2.7\n"
     ]
    }
   ],
   "source": [
    "!ls"
   ]
  },
  {
   "cell_type": "code",
   "execution_count": 5,
   "metadata": {
    "colab": {
     "base_uri": "https://localhost:8080/",
     "height": 631
    },
    "colab_type": "code",
    "id": "FQ8Ts9eZBA-M",
    "outputId": "3166bcf7-a86e-4e52-94e3-7cc503467ad8"
   },
   "outputs": [
    {
     "name": "stdout",
     "output_type": "stream",
     "text": [
      "root\n",
      " |-- age: integer (nullable = true)\n",
      " |-- job: string (nullable = true)\n",
      " |-- marital: string (nullable = true)\n",
      " |-- education: string (nullable = true)\n",
      " |-- default: string (nullable = true)\n",
      " |-- balance: integer (nullable = true)\n",
      " |-- housing: string (nullable = true)\n",
      " |-- loan: string (nullable = true)\n",
      " |-- contact: string (nullable = true)\n",
      " |-- day: integer (nullable = true)\n",
      " |-- month: string (nullable = true)\n",
      " |-- duration: integer (nullable = true)\n",
      " |-- campaign: integer (nullable = true)\n",
      " |-- pdays: integer (nullable = true)\n",
      " |-- previous: integer (nullable = true)\n",
      " |-- poutcome: string (nullable = true)\n",
      " |-- deposit: string (nullable = true)\n",
      "\n",
      "+---+----------+--------+---------+-------+-------+-------+----+-------+---+-----+--------+--------+-----+--------+--------+-------+\n",
      "|age|       job| marital|education|default|balance|housing|loan|contact|day|month|duration|campaign|pdays|previous|poutcome|deposit|\n",
      "+---+----------+--------+---------+-------+-------+-------+----+-------+---+-----+--------+--------+-----+--------+--------+-------+\n",
      "| 59|    admin.| married|secondary|     no|   2343|    yes|  no|unknown|  5|  may|    1042|       1|   -1|       0| unknown|    yes|\n",
      "| 56|    admin.| married|secondary|     no|     45|     no|  no|unknown|  5|  may|    1467|       1|   -1|       0| unknown|    yes|\n",
      "| 41|technician| married|secondary|     no|   1270|    yes|  no|unknown|  5|  may|    1389|       1|   -1|       0| unknown|    yes|\n",
      "| 55|  services| married|secondary|     no|   2476|    yes|  no|unknown|  5|  may|     579|       1|   -1|       0| unknown|    yes|\n",
      "| 54|    admin.| married| tertiary|     no|    184|     no|  no|unknown|  5|  may|     673|       2|   -1|       0| unknown|    yes|\n",
      "| 42|management|  single| tertiary|     no|      0|    yes| yes|unknown|  5|  may|     562|       2|   -1|       0| unknown|    yes|\n",
      "| 56|management| married| tertiary|     no|    830|    yes| yes|unknown|  6|  may|    1201|       1|   -1|       0| unknown|    yes|\n",
      "| 60|   retired|divorced|secondary|     no|    545|    yes|  no|unknown|  6|  may|    1030|       1|   -1|       0| unknown|    yes|\n",
      "| 37|technician| married|secondary|     no|      1|    yes|  no|unknown|  6|  may|     608|       1|   -1|       0| unknown|    yes|\n",
      "| 28|  services|  single|secondary|     no|   5090|    yes|  no|unknown|  6|  may|    1297|       3|   -1|       0| unknown|    yes|\n",
      "+---+----------+--------+---------+-------+-------+-------+----+-------+---+-----+--------+--------+-----+--------+--------+-------+\n",
      "only showing top 10 rows\n",
      "\n"
     ]
    }
   ],
   "source": [
    "# Importing 'bank.csv' as Spark dataframe\n",
    "spark = SparkSession.builder.appName('ml-bank').getOrCreate()\n",
    "df = spark.read.csv('bank.csv', header = True, inferSchema = True) \n",
    "df.printSchema() \n",
    "df.show(10)"
   ]
  },
  {
   "cell_type": "code",
   "execution_count": 6,
   "metadata": {
    "colab": {
     "base_uri": "https://localhost:8080/",
     "height": 216
    },
    "colab_type": "code",
    "id": "XJGWVc0yB0UA",
    "outputId": "8074e450-853c-4c07-d6fc-869ab4a325b3"
   },
   "outputs": [
    {
     "name": "stdout",
     "output_type": "stream",
     "text": [
      "+-------+------------------+-------+--------+---------+-------+------------------+-------+-----+--------+------------------+-----+------------------+------------------+------------------+------------------+--------+-------+\n",
      "|summary|               age|    job| marital|education|default|           balance|housing| loan| contact|               day|month|          duration|          campaign|             pdays|          previous|poutcome|deposit|\n",
      "+-------+------------------+-------+--------+---------+-------+------------------+-------+-----+--------+------------------+-----+------------------+------------------+------------------+------------------+--------+-------+\n",
      "|  count|             11162|  11162|   11162|    11162|  11162|             11162|  11162|11162|   11162|             11162|11162|             11162|             11162|             11162|             11162|   11162|  11162|\n",
      "|   mean|41.231947679627304|   null|    null|     null|   null|1528.5385235620856|   null| null|    null|15.658036194230425| null|371.99381831213043| 2.508421429851281| 51.33040673714388|0.8325568894463358|    null|   null|\n",
      "| stddev|11.913369192215518|   null|    null|     null|   null| 3225.413325946149|   null| null|    null| 8.420739541006462| null|347.12838571630687|2.7220771816614824|108.75828197197717| 2.292007218670508|    null|   null|\n",
      "|    min|                18| admin.|divorced|  primary|     no|             -6847|     no|   no|cellular|                 1|  apr|                 2|                 1|                -1|                 0| failure|     no|\n",
      "|    max|                95|unknown|  single|  unknown|    yes|             81204|    yes|  yes| unknown|                31|  sep|              3881|                63|               854|                58| unknown|    yes|\n",
      "+-------+------------------+-------+--------+---------+-------+------------------+-------+-----+--------+------------------+-----+------------------+------------------+------------------+------------------+--------+-------+\n",
      "\n"
     ]
    }
   ],
   "source": [
    "# Checking data distribution\n",
    "df.describe().show() "
   ]
  },
  {
   "cell_type": "markdown",
   "metadata": {
    "colab_type": "text",
    "id": "wKQMhrtFChHa"
   },
   "source": [
    "# Select features for df2\n",
    "\n"
   ]
  },
  {
   "cell_type": "code",
   "execution_count": 7,
   "metadata": {
    "colab": {
     "base_uri": "https://localhost:8080/",
     "height": 298
    },
    "colab_type": "code",
    "id": "VU5xMqN_RyM2",
    "outputId": "2e461091-9ad2-426a-8657-611797910ad4"
   },
   "outputs": [
    {
     "name": "stdout",
     "output_type": "stream",
     "text": [
      "+---+----------+--------+---------+-------+-------+-------+----+--------+-----+--------+--------+-------+\n",
      "|age|       job| marital|education|default|balance|housing|loan|campaign|pdays|previous|poutcome|deposit|\n",
      "+---+----------+--------+---------+-------+-------+-------+----+--------+-----+--------+--------+-------+\n",
      "| 59|    admin.| married|secondary|     no|   2343|    yes|  no|       1|   -1|       0| unknown|    yes|\n",
      "| 56|    admin.| married|secondary|     no|     45|     no|  no|       1|   -1|       0| unknown|    yes|\n",
      "| 41|technician| married|secondary|     no|   1270|    yes|  no|       1|   -1|       0| unknown|    yes|\n",
      "| 55|  services| married|secondary|     no|   2476|    yes|  no|       1|   -1|       0| unknown|    yes|\n",
      "| 54|    admin.| married| tertiary|     no|    184|     no|  no|       2|   -1|       0| unknown|    yes|\n",
      "| 42|management|  single| tertiary|     no|      0|    yes| yes|       2|   -1|       0| unknown|    yes|\n",
      "| 56|management| married| tertiary|     no|    830|    yes| yes|       1|   -1|       0| unknown|    yes|\n",
      "| 60|   retired|divorced|secondary|     no|    545|    yes|  no|       1|   -1|       0| unknown|    yes|\n",
      "| 37|technician| married|secondary|     no|      1|    yes|  no|       1|   -1|       0| unknown|    yes|\n",
      "| 28|  services|  single|secondary|     no|   5090|    yes|  no|       3|   -1|       0| unknown|    yes|\n",
      "+---+----------+--------+---------+-------+-------+-------+----+--------+-----+--------+--------+-------+\n",
      "only showing top 10 rows\n",
      "\n"
     ]
    }
   ],
   "source": [
    "df2 = df.select('age', 'job', 'marital', 'education', 'default', 'balance', 'housing', 'loan', 'campaign', 'pdays', 'previous', 'poutcome', 'deposit')\n",
    "df2.show(10)"
   ]
  },
  {
   "cell_type": "code",
   "execution_count": 0,
   "metadata": {
    "colab": {},
    "colab_type": "code",
    "id": "LWE-MLBcPi52"
   },
   "outputs": [],
   "source": [
    "from pyspark import SparkContext\n",
    "from pyspark.sql import SQLContext\n",
    "sparkc = SparkContext.getOrCreate()\n",
    "sqlContext = SQLContext(sparkc)"
   ]
  },
  {
   "cell_type": "code",
   "execution_count": 0,
   "metadata": {
    "colab": {},
    "colab_type": "code",
    "id": "vwF5sqRYa_eI"
   },
   "outputs": [],
   "source": [
    "#Removing invalid rows using spark.sql \n",
    "from pyspark.sql import SparkSession\n",
    "df2.registerTempTable(\"bank\")"
   ]
  },
  {
   "cell_type": "code",
   "execution_count": 10,
   "metadata": {
    "colab": {
     "base_uri": "https://localhost:8080/",
     "height": 298
    },
    "colab_type": "code",
    "id": "bQpkJ24iRl3e",
    "outputId": "c3c4a1e3-ad89-4462-9cf2-06aa57399799"
   },
   "outputs": [
    {
     "name": "stdout",
     "output_type": "stream",
     "text": [
      "+---+------------+--------+---------+-------+-------+-------+----+--------+-----+--------+--------+-------+\n",
      "|age|         job| marital|education|default|balance|housing|loan|campaign|pdays|previous|poutcome|deposit|\n",
      "+---+------------+--------+---------+-------+-------+-------+----+--------+-----+--------+--------+-------+\n",
      "| 33|    services| married|secondary|     no|   3444|    yes|  no|       1|   91|       4| failure|    yes|\n",
      "| 56|  technician| married|secondary|     no|    589|    yes|  no|       1|  147|       2| success|    yes|\n",
      "| 34|      admin.| married| tertiary|     no|    899|    yes|  no|       1|  170|       3| failure|    yes|\n",
      "| 53|     retired| married| tertiary|     no|   2269|     no|  no|       2|  150|       1| success|    yes|\n",
      "| 37|  technician| married|secondary|     no|   5115|    yes|  no|       2|  171|       4| failure|    yes|\n",
      "| 45|entrepreneur| married|secondary|     no|    781|     no| yes|       2|  126|       2| failure|    yes|\n",
      "| 46|  unemployed|divorced|secondary|     no|   3354|    yes|  no|       1|  174|       1| success|    yes|\n",
      "| 40|  management| married| tertiary|     no|   3352|    yes|  no|       2|   27|       1| success|    yes|\n",
      "| 32|  technician| married| tertiary|     no|   4654|    yes| yes|       1|  128|       2| failure|    yes|\n",
      "| 30| blue-collar| married|secondary|     no|    501|    yes| yes|       1|  177|       1| failure|    yes|\n",
      "+---+------------+--------+---------+-------+-------+-------+----+--------+-----+--------+--------+-------+\n",
      "only showing top 10 rows\n",
      "\n"
     ]
    }
   ],
   "source": [
    "#Filtering rows from attributes which has 'unknown' entry\n",
    "filter = sqlContext.sql(\"SELECT * FROM bank WHERE job!= 'unknown' AND education!= 'unknown' AND poutcome!='unknown' AND poutcome!='other'\")\n",
    "filter.show(10)"
   ]
  },
  {
   "cell_type": "code",
   "execution_count": 0,
   "metadata": {
    "colab": {},
    "colab_type": "code",
    "id": "A_T8qvxzR-oI"
   },
   "outputs": [],
   "source": [
    "#Converting categorical features to metric features using One hot encoding\n",
    "import numpy as np\n",
    "from pyspark.mllib.linalg import SparseVector\n",
    "from pyspark.ml import Pipeline\n",
    "from pyspark.ml.feature import StringIndexer\n",
    "from pyspark.ml.feature import OneHotEncoderEstimator, OneHotEncoderModel\n",
    "from pyspark.ml.feature import VectorAssembler"
   ]
  },
  {
   "cell_type": "code",
   "execution_count": 0,
   "metadata": {
    "colab": {},
    "colab_type": "code",
    "id": "ynazeLHIFkrb"
   },
   "outputs": [],
   "source": [
    "categor_Columns = ['job', 'marital', 'education', 'default', 'housing', 'loan', 'poutcome']\n",
    "stages = []\n",
    "cols = filter.columns"
   ]
  },
  {
   "cell_type": "code",
   "execution_count": 0,
   "metadata": {
    "colab": {},
    "colab_type": "code",
    "id": "PMXBqKdOFwvg"
   },
   "outputs": [],
   "source": [
    "for categoricalCol in categor_Columns:\n",
    "    stringIndexer = StringIndexer(inputCol = categoricalCol, outputCol = categoricalCol + 'Index')\n",
    "    encoder = OneHotEncoderEstimator(inputCols=[stringIndexer.getOutputCol()], outputCols=[categoricalCol + \"classVec\"])\n",
    "    stages += [stringIndexer, encoder]\n",
    "String_label = StringIndexer(inputCol = 'deposit', outputCol = 'labels')\n",
    "stages += [String_label]\n",
    "Num_Columns = ['age', 'balance', 'campaign', 'pdays', 'previous']\n",
    "Input_assembler = [c + \"classVec\" for c in categor_Columns] + Num_Columns\n",
    "assembler = VectorAssembler(inputCols=Input_assembler, outputCol=\"features\")\n",
    "stages += [assembler]"
   ]
  },
  {
   "cell_type": "code",
   "execution_count": 14,
   "metadata": {
    "colab": {
     "base_uri": "https://localhost:8080/",
     "height": 316
    },
    "colab_type": "code",
    "id": "pM2lhA0EGPcj",
    "outputId": "178146ff-25c0-4eb9-a285-126439561cdc"
   },
   "outputs": [
    {
     "name": "stdout",
     "output_type": "stream",
     "text": [
      "root\n",
      " |-- labels: double (nullable = false)\n",
      " |-- features: vector (nullable = true)\n",
      " |-- age: integer (nullable = true)\n",
      " |-- job: string (nullable = true)\n",
      " |-- marital: string (nullable = true)\n",
      " |-- education: string (nullable = true)\n",
      " |-- default: string (nullable = true)\n",
      " |-- balance: integer (nullable = true)\n",
      " |-- housing: string (nullable = true)\n",
      " |-- loan: string (nullable = true)\n",
      " |-- campaign: integer (nullable = true)\n",
      " |-- pdays: integer (nullable = true)\n",
      " |-- previous: integer (nullable = true)\n",
      " |-- poutcome: string (nullable = true)\n",
      " |-- deposit: string (nullable = true)\n",
      "\n"
     ]
    }
   ],
   "source": [
    "pipeline = Pipeline(stages = stages)\n",
    "pipelineModel = pipeline.fit(filter)\n",
    "filter = pipelineModel.transform(filter)\n",
    "selectedCols = ['labels', 'features'] + cols\n",
    "filter = filter.select(selectedCols)\n",
    "filter.printSchema()"
   ]
  },
  {
   "cell_type": "code",
   "execution_count": 15,
   "metadata": {
    "colab": {
     "base_uri": "https://localhost:8080/",
     "height": 298
    },
    "colab_type": "code",
    "id": "TKeDfmpgHCj4",
    "outputId": "2ec50e25-ea5e-478a-b6ce-dbb75ad2a252"
   },
   "outputs": [
    {
     "name": "stdout",
     "output_type": "stream",
     "text": [
      "+------+--------------------+---+------------+--------+---------+-------+-------+-------+----+--------+-----+--------+--------+-------+\n",
      "|labels|            features|age|         job| marital|education|default|balance|housing|loan|campaign|pdays|previous|poutcome|deposit|\n",
      "+------+--------------------+---+------------+--------+---------+-------+-------+-------+----+--------+-----+--------+--------+-------+\n",
      "|   0.0|(23,[5,10,12,14,1...| 33|    services| married|secondary|     no|   3444|    yes|  no|       1|   91|       4| failure|    yes|\n",
      "|   0.0|(23,[1,10,12,14,1...| 56|  technician| married|secondary|     no|    589|    yes|  no|       1|  147|       2| success|    yes|\n",
      "|   0.0|(23,[2,10,13,14,1...| 34|      admin.| married| tertiary|     no|    899|    yes|  no|       1|  170|       3| failure|    yes|\n",
      "|   0.0|(23,[4,10,13,14,1...| 53|     retired| married| tertiary|     no|   2269|     no|  no|       2|  150|       1| success|    yes|\n",
      "|   0.0|(23,[1,10,12,14,1...| 37|  technician| married|secondary|     no|   5115|    yes|  no|       2|  171|       4| failure|    yes|\n",
      "|   0.0|(23,[9,10,12,14,1...| 45|entrepreneur| married|secondary|     no|    781|     no| yes|       2|  126|       2| failure|    yes|\n",
      "|   0.0|(23,[7,12,14,16,1...| 46|  unemployed|divorced|secondary|     no|   3354|    yes|  no|       1|  174|       1| success|    yes|\n",
      "|   0.0|(23,[0,10,13,14,1...| 40|  management| married| tertiary|     no|   3352|    yes|  no|       2|   27|       1| success|    yes|\n",
      "|   0.0|(23,[1,10,13,14,1...| 32|  technician| married| tertiary|     no|   4654|    yes| yes|       1|  128|       2| failure|    yes|\n",
      "|   0.0|(23,[3,10,12,14,1...| 30| blue-collar| married|secondary|     no|    501|    yes| yes|       1|  177|       1| failure|    yes|\n",
      "+------+--------------------+---+------------+--------+---------+-------+-------+-------+----+--------+-----+--------+--------+-------+\n",
      "only showing top 10 rows\n",
      "\n"
     ]
    }
   ],
   "source": [
    "filter.show(10)"
   ]
  },
  {
   "cell_type": "markdown",
   "metadata": {
    "colab_type": "text",
    "id": "pOqHERYJCQuC"
   },
   "source": [
    "## Normalisation"
   ]
  },
  {
   "cell_type": "code",
   "execution_count": 16,
   "metadata": {
    "colab": {
     "base_uri": "https://localhost:8080/",
     "height": 316
    },
    "colab_type": "code",
    "id": "cfL6_sca5VwI",
    "outputId": "26a60ccf-ed3e-43ff-ef8e-362c7825eceb"
   },
   "outputs": [
    {
     "name": "stdout",
     "output_type": "stream",
     "text": [
      "Features scaled to range: [0.000000, 1.000000]\n",
      "+------+--------------------+---+------------+--------+---------+-------+-------+-------+----+--------+-----+--------+--------+-------+--------------------+\n",
      "|labels|            features|age|         job| marital|education|default|balance|housing|loan|campaign|pdays|previous|poutcome|deposit|      scaledFeatures|\n",
      "+------+--------------------+---+------------+--------+---------+-------+-------+-------+----+--------+-----+--------+--------+-------+--------------------+\n",
      "|   0.0|(23,[5,10,12,14,1...| 33|    services| married|secondary|     no|   3444|    yes|  no|       1|   91|       4| failure|    yes|[0.0,0.0,0.0,0.0,...|\n",
      "|   0.0|(23,[1,10,12,14,1...| 56|  technician| married|secondary|     no|    589|    yes|  no|       1|  147|       2| success|    yes|[0.0,1.0,0.0,0.0,...|\n",
      "|   0.0|(23,[2,10,13,14,1...| 34|      admin.| married| tertiary|     no|    899|    yes|  no|       1|  170|       3| failure|    yes|[0.0,0.0,1.0,0.0,...|\n",
      "|   0.0|(23,[4,10,13,14,1...| 53|     retired| married| tertiary|     no|   2269|     no|  no|       2|  150|       1| success|    yes|[0.0,0.0,0.0,0.0,...|\n",
      "|   0.0|(23,[1,10,12,14,1...| 37|  technician| married|secondary|     no|   5115|    yes|  no|       2|  171|       4| failure|    yes|[0.0,1.0,0.0,0.0,...|\n",
      "|   0.0|(23,[9,10,12,14,1...| 45|entrepreneur| married|secondary|     no|    781|     no| yes|       2|  126|       2| failure|    yes|[0.0,0.0,0.0,0.0,...|\n",
      "|   0.0|(23,[7,12,14,16,1...| 46|  unemployed|divorced|secondary|     no|   3354|    yes|  no|       1|  174|       1| success|    yes|[0.0,0.0,0.0,0.0,...|\n",
      "|   0.0|(23,[0,10,13,14,1...| 40|  management| married| tertiary|     no|   3352|    yes|  no|       2|   27|       1| success|    yes|[1.0,0.0,0.0,0.0,...|\n",
      "|   0.0|(23,[1,10,13,14,1...| 32|  technician| married| tertiary|     no|   4654|    yes| yes|       1|  128|       2| failure|    yes|[0.0,1.0,0.0,0.0,...|\n",
      "|   0.0|(23,[3,10,12,14,1...| 30| blue-collar| married|secondary|     no|    501|    yes| yes|       1|  177|       1| failure|    yes|[0.0,0.0,0.0,1.0,...|\n",
      "+------+--------------------+---+------------+--------+---------+-------+-------+-------+----+--------+-----+--------+--------+-------+--------------------+\n",
      "only showing top 10 rows\n",
      "\n"
     ]
    }
   ],
   "source": [
    "#Applying Min-Max normalisation on each attribute using MinMaxScaler from pyspark.ml.feature\n",
    "from pyspark.ml.feature import MinMaxScaler\n",
    "from pyspark.ml.linalg import Vectors\n",
    "scaler = MinMaxScaler(inputCol=\"features\", outputCol=\"scaledFeatures\")\n",
    "\n",
    "# Computing summary statistics and generating MinMaxScalerModel\n",
    "Scaler_model = scaler.fit(filter)\n",
    "\n",
    "# rescale each feature to range [min, max].\n",
    "Scaled_Data = Scaler_model.transform(filter)\n",
    "print(\"Features scaled to range: [%f, %f]\" % (scaler.getMin(), scaler.getMax()))\n",
    "Scaled_Data.show(10)"
   ]
  },
  {
   "cell_type": "markdown",
   "metadata": {
    "colab_type": "text",
    "id": "9trUY7ZgCzhW"
   },
   "source": [
    "# Unsupervised learning"
   ]
  },
  {
   "cell_type": "markdown",
   "metadata": {
    "colab_type": "text",
    "id": "KTQfUch2Cmmi"
   },
   "source": [
    "##  K-means"
   ]
  },
  {
   "cell_type": "code",
   "execution_count": 17,
   "metadata": {
    "colab": {
     "base_uri": "https://localhost:8080/",
     "height": 298
    },
    "colab_type": "code",
    "id": "dGGZI70Ohqgg",
    "outputId": "aa8e6d4b-0f4a-4af6-d9f7-4c017dcdcd75"
   },
   "outputs": [
    {
     "name": "stdout",
     "output_type": "stream",
     "text": [
      "+------+--------------------+---+------------+--------+---------+-------+-------+-------+----+--------+-----+--------+--------+-------+--------------------+----------+\n",
      "|labels|            features|age|         job| marital|education|default|balance|housing|loan|campaign|pdays|previous|poutcome|deposit|      scaledFeatures|prediction|\n",
      "+------+--------------------+---+------------+--------+---------+-------+-------+-------+----+--------+-----+--------+--------+-------+--------------------+----------+\n",
      "|   0.0|(23,[5,10,12,14,1...| 33|    services| married|secondary|     no|   3444|    yes|  no|       1|   91|       4| failure|    yes|[0.0,0.0,0.0,0.0,...|         1|\n",
      "|   0.0|(23,[1,10,12,14,1...| 56|  technician| married|secondary|     no|    589|    yes|  no|       1|  147|       2| success|    yes|[0.0,1.0,0.0,0.0,...|         1|\n",
      "|   0.0|(23,[2,10,13,14,1...| 34|      admin.| married| tertiary|     no|    899|    yes|  no|       1|  170|       3| failure|    yes|[0.0,0.0,1.0,0.0,...|         1|\n",
      "|   0.0|(23,[4,10,13,14,1...| 53|     retired| married| tertiary|     no|   2269|     no|  no|       2|  150|       1| success|    yes|[0.0,0.0,0.0,0.0,...|         1|\n",
      "|   0.0|(23,[1,10,12,14,1...| 37|  technician| married|secondary|     no|   5115|    yes|  no|       2|  171|       4| failure|    yes|[0.0,1.0,0.0,0.0,...|         1|\n",
      "|   0.0|(23,[9,10,12,14,1...| 45|entrepreneur| married|secondary|     no|    781|     no| yes|       2|  126|       2| failure|    yes|[0.0,0.0,0.0,0.0,...|         1|\n",
      "|   0.0|(23,[7,12,14,16,1...| 46|  unemployed|divorced|secondary|     no|   3354|    yes|  no|       1|  174|       1| success|    yes|[0.0,0.0,0.0,0.0,...|         1|\n",
      "|   0.0|(23,[0,10,13,14,1...| 40|  management| married| tertiary|     no|   3352|    yes|  no|       2|   27|       1| success|    yes|[1.0,0.0,0.0,0.0,...|         1|\n",
      "|   0.0|(23,[1,10,13,14,1...| 32|  technician| married| tertiary|     no|   4654|    yes| yes|       1|  128|       2| failure|    yes|[0.0,1.0,0.0,0.0,...|         1|\n",
      "|   0.0|(23,[3,10,12,14,1...| 30| blue-collar| married|secondary|     no|    501|    yes| yes|       1|  177|       1| failure|    yes|[0.0,0.0,0.0,1.0,...|         1|\n",
      "+------+--------------------+---+------------+--------+---------+-------+-------+-------+----+--------+-----+--------+--------+-------+--------------------+----------+\n",
      "only showing top 10 rows\n",
      "\n"
     ]
    }
   ],
   "source": [
    "# performing Kmeans on df2  \n",
    "from pyspark.ml.clustering import KMeans\n",
    "from pyspark.ml.evaluation import ClusteringEvaluator\n",
    "from pyspark.ml.evaluation import MulticlassClassificationEvaluator\n",
    "\n",
    "kmeans = KMeans(k=2, seed=1)  # clusters = 2\n",
    "model = kmeans.fit(Scaled_Data.select('features'))\n",
    "\n",
    "transformed = model.transform(Scaled_Data)\n",
    "transformed.show(10)   "
   ]
  },
  {
   "cell_type": "code",
   "execution_count": 18,
   "metadata": {
    "colab": {
     "base_uri": "https://localhost:8080/",
     "height": 298
    },
    "colab_type": "code",
    "id": "ZPpaw6UXuzm6",
    "outputId": "ff386689-3727-4891-d6b6-e4dbe34e8b34"
   },
   "outputs": [
    {
     "name": "stdout",
     "output_type": "stream",
     "text": [
      "+------+--------------------+---+------------+--------+---------+-------+-------+-------+----+--------+-----+--------+--------+-------+--------------------+----------+-------+\n",
      "|labels|            features|age|         job| marital|education|default|balance|housing|loan|campaign|pdays|previous|poutcome|deposit|      scaledFeatures|prediction|Cluster|\n",
      "+------+--------------------+---+------------+--------+---------+-------+-------+-------+----+--------+-----+--------+--------+-------+--------------------+----------+-------+\n",
      "|   0.0|(23,[5,10,12,14,1...| 33|    services| married|secondary|     no|   3444|    yes|  no|       1|   91|       4| failure|    yes|[0.0,0.0,0.0,0.0,...|         1|      1|\n",
      "|   0.0|(23,[1,10,12,14,1...| 56|  technician| married|secondary|     no|    589|    yes|  no|       1|  147|       2| success|    yes|[0.0,1.0,0.0,0.0,...|         1|      1|\n",
      "|   0.0|(23,[2,10,13,14,1...| 34|      admin.| married| tertiary|     no|    899|    yes|  no|       1|  170|       3| failure|    yes|[0.0,0.0,1.0,0.0,...|         1|      1|\n",
      "|   0.0|(23,[4,10,13,14,1...| 53|     retired| married| tertiary|     no|   2269|     no|  no|       2|  150|       1| success|    yes|[0.0,0.0,0.0,0.0,...|         1|      1|\n",
      "|   0.0|(23,[1,10,12,14,1...| 37|  technician| married|secondary|     no|   5115|    yes|  no|       2|  171|       4| failure|    yes|[0.0,1.0,0.0,0.0,...|         1|      1|\n",
      "|   0.0|(23,[9,10,12,14,1...| 45|entrepreneur| married|secondary|     no|    781|     no| yes|       2|  126|       2| failure|    yes|[0.0,0.0,0.0,0.0,...|         1|      1|\n",
      "|   0.0|(23,[7,12,14,16,1...| 46|  unemployed|divorced|secondary|     no|   3354|    yes|  no|       1|  174|       1| success|    yes|[0.0,0.0,0.0,0.0,...|         1|      1|\n",
      "|   0.0|(23,[0,10,13,14,1...| 40|  management| married| tertiary|     no|   3352|    yes|  no|       2|   27|       1| success|    yes|[1.0,0.0,0.0,0.0,...|         1|      1|\n",
      "|   0.0|(23,[1,10,13,14,1...| 32|  technician| married| tertiary|     no|   4654|    yes| yes|       1|  128|       2| failure|    yes|[0.0,1.0,0.0,0.0,...|         1|      1|\n",
      "|   0.0|(23,[3,10,12,14,1...| 30| blue-collar| married|secondary|     no|    501|    yes| yes|       1|  177|       1| failure|    yes|[0.0,0.0,0.0,1.0,...|         1|      1|\n",
      "+------+--------------------+---+------------+--------+---------+-------+-------+-------+----+--------+-----+--------+--------+-------+--------------------+----------+-------+\n",
      "only showing top 10 rows\n",
      "\n"
     ]
    }
   ],
   "source": [
    "#Clustering with cluster = 2\n",
    "import numpy as np\n",
    "\n",
    "kmeans = KMeans(k=2, seed=1, featuresCol=\"features\", predictionCol=\"Cluster\")\n",
    "model = kmeans.fit(Scaled_Data.select('features'))\n",
    "\n",
    "model = kmeans.fit(Scaled_Data)\n",
    "cluster = model.transform(transformed)\n",
    "cluster.show(10)"
   ]
  },
  {
   "cell_type": "code",
   "execution_count": 19,
   "metadata": {
    "colab": {
     "base_uri": "https://localhost:8080/",
     "height": 245
    },
    "colab_type": "code",
    "id": "2Hz1gKgViAwJ",
    "outputId": "e51218bb-3894-497c-99a9-6fe35bdffc58"
   },
   "outputs": [
    {
     "name": "stdout",
     "output_type": "stream",
     "text": [
      "Cluster Centers: \n",
      "[3.24561404e-01 1.92982456e-01 7.89473684e-02 6.14035088e-02\n",
      " 1.22807018e-01 4.38596491e-02 3.50877193e-02 7.89473684e-02\n",
      " 6.14035088e-02 0.00000000e+00 5.87719298e-01 3.59649123e-01\n",
      " 3.15789474e-01 5.43859649e-01 1.00000000e+00 6.31578947e-01\n",
      " 9.91228070e-01 4.73684211e-01 4.36754386e+01 1.17268860e+04\n",
      " 2.00000000e+00 1.81456140e+02 2.94736842e+00]\n",
      "[2.50604741e-01 1.60619255e-01 1.45621674e-01 1.27721335e-01\n",
      " 8.80503145e-02 7.25689405e-02 4.35413643e-02 3.77358491e-02\n",
      " 3.24141268e-02 2.08030963e-02 5.64586357e-01 3.39138849e-01\n",
      " 5.10401548e-01 3.90420900e-01 9.96613449e-01 5.44267054e-01\n",
      " 8.97435897e-01 5.42815675e-01 4.17426222e+01 1.19230866e+03\n",
      " 1.81132075e+00 2.04038220e+02 3.09966134e+00]\n"
     ]
    }
   ],
   "source": [
    "#printing centers for clusters\n",
    "Center = model.clusterCenters()\n",
    "print(\"Cluster Centers: \")\n",
    "for center in Center:\n",
    "    print(center)"
   ]
  },
  {
   "cell_type": "markdown",
   "metadata": {
    "colab_type": "text",
    "id": "FHom8o2KCt36"
   },
   "source": [
    "## PCA"
   ]
  },
  {
   "cell_type": "code",
   "execution_count": 20,
   "metadata": {
    "colab": {
     "base_uri": "https://localhost:8080/",
     "height": 324
    },
    "colab_type": "code",
    "id": "wT4cx5uGTjmj",
    "outputId": "ef064d08-d8f9-46e1-bb9b-20a01ccbd3d8"
   },
   "outputs": [
    {
     "name": "stdout",
     "output_type": "stream",
     "text": [
      "+------+--------------------+---+------------+--------+---------+-------+-------+-------+----+--------+-----+--------+--------+-------+--------------------+--------------------+\n",
      "|labels|            features|age|         job| marital|education|default|balance|housing|loan|campaign|pdays|previous|poutcome|deposit|      scaledFeatures|                 Pca|\n",
      "+------+--------------------+---+------------+--------+---------+-------+-------+-------+----+--------+-----+--------+--------+-------+--------------------+--------------------+\n",
      "|   0.0|(23,[5,10,12,14,1...| 33|    services| married|secondary|     no|   3444|    yes|  no|       1|   91|       4| failure|    yes|[0.0,0.0,0.0,0.0,...|[0.96364248505160...|\n",
      "|   0.0|(23,[1,10,12,14,1...| 56|  technician| married|secondary|     no|    589|    yes|  no|       1|  147|       2| success|    yes|[0.0,1.0,0.0,0.0,...|[0.83734101836268...|\n",
      "|   0.0|(23,[2,10,13,14,1...| 34|      admin.| married| tertiary|     no|    899|    yes|  no|       1|  170|       3| failure|    yes|[0.0,0.0,1.0,0.0,...|[-0.1084500265257...|\n",
      "|   0.0|(23,[4,10,13,14,1...| 53|     retired| married| tertiary|     no|   2269|     no|  no|       2|  150|       1| success|    yes|[0.0,0.0,0.0,0.0,...|[-0.4795609426700...|\n",
      "|   0.0|(23,[1,10,12,14,1...| 37|  technician| married|secondary|     no|   5115|    yes|  no|       2|  171|       4| failure|    yes|[0.0,1.0,0.0,0.0,...|[0.95767948650617...|\n",
      "|   0.0|(23,[9,10,12,14,1...| 45|entrepreneur| married|secondary|     no|    781|     no| yes|       2|  126|       2| failure|    yes|[0.0,0.0,0.0,0.0,...|[0.78790279189690...|\n",
      "|   0.0|(23,[7,12,14,16,1...| 46|  unemployed|divorced|secondary|     no|   3354|    yes|  no|       1|  174|       1| success|    yes|[0.0,0.0,0.0,0.0,...|[0.51243046926688...|\n",
      "|   0.0|(23,[0,10,13,14,1...| 40|  management| married| tertiary|     no|   3352|    yes|  no|       2|   27|       1| success|    yes|[1.0,0.0,0.0,0.0,...|[-0.7369547765884...|\n",
      "|   0.0|(23,[1,10,13,14,1...| 32|  technician| married| tertiary|     no|   4654|    yes| yes|       1|  128|       2| failure|    yes|[0.0,1.0,0.0,0.0,...|[-0.1028260652716...|\n",
      "|   0.0|(23,[3,10,12,14,1...| 30| blue-collar| married|secondary|     no|    501|    yes| yes|       1|  177|       1| failure|    yes|[0.0,0.0,0.0,1.0,...|[1.06615145941459...|\n",
      "+------+--------------------+---+------------+--------+---------+-------+-------+-------+----+--------+-----+--------+--------+-------+--------------------+--------------------+\n",
      "only showing top 10 rows\n",
      "\n"
     ]
    }
   ],
   "source": [
    "#Generating a scatter plot to investigate the data distribution using the first two PCA components.\n",
    "from pyspark.ml.feature import PCA\n",
    "from pyspark.ml.linalg import Vectors\n",
    "from pyspark.mllib.regression import LabeledPoint\n",
    "from pyspark.mllib.clustering import GaussianMixture\n",
    "\n",
    "Pca = PCA(k=4, inputCol=\"scaledFeatures\", outputCol=\"Pca\")\n",
    "Pca_model = Pca.fit(Scaled_Data)\n",
    "transformed = Pca_model.transform(Scaled_Data)\n",
    "\n",
    "features = transformed.select('Pca').rdd.map(lambda x: np.array(x))\n",
    "transformed.show(10)"
   ]
  },
  {
   "cell_type": "code",
   "execution_count": 21,
   "metadata": {
    "colab": {
     "base_uri": "https://localhost:8080/",
     "height": 299
    },
    "colab_type": "code",
    "id": "Zxt2Iq8uAZ6J",
    "outputId": "c5cf5edc-008e-4189-cc94-bef6cd2ae73a"
   },
   "outputs": [
    {
     "data": {
      "text/plain": [
       "Text(0.5, 1.0, 'Scatter plot')"
      ]
     },
     "execution_count": 21,
     "metadata": {
      "tags": []
     },
     "output_type": "execute_result"
    },
    {
     "data": {
      "image/png": "[encoded data removed]",
      "text/plain": [
       "<Figure size 432x288 with 1 Axes>"
      ]
     },
     "metadata": {
      "tags": []
     },
     "output_type": "display_data"
    }
   ],
   "source": [
    "import matplotlib.pyplot as plt\n",
    "Pca_plot = np.array(features.collect()).squeeze()\n",
    "plt.scatter(Pca_plot[:,0],Pca_plot[:,1],alpha = 0.5)\n",
    "plt.title('Scatter plot')"
   ]
  },
  {
   "cell_type": "code",
   "execution_count": 41,
   "metadata": {
    "colab": {
     "base_uri": "https://localhost:8080/",
     "height": 336
    },
    "colab_type": "code",
    "id": "ZLh1pCzA2fTa",
    "outputId": "9e8d3178-d4b9-4896-b28d-c036ba065b7d"
   },
   "outputs": [
    {
     "name": "stdout",
     "output_type": "stream",
     "text": [
      "Explained Variance:  [0.24018136 0.17260419]\n",
      "+------+--------------------+---+------------+--------+---------+-------+-------+-------+----+--------+-----+--------+--------+-------+--------------------+--------------------+\n",
      "|labels|            features|age|         job| marital|education|default|balance|housing|loan|campaign|pdays|previous|poutcome|deposit|      scaledFeatures|         PcaFeatures|\n",
      "+------+--------------------+---+------------+--------+---------+-------+-------+-------+----+--------+-----+--------+--------+-------+--------------------+--------------------+\n",
      "|   0.0|(23,[5,10,12,14,1...| 33|    services| married|secondary|     no|   3444|    yes|  no|       1|   91|       4| failure|    yes|[0.0,0.0,0.0,0.0,...|[0.96364248505160...|\n",
      "|   0.0|(23,[1,10,12,14,1...| 56|  technician| married|secondary|     no|    589|    yes|  no|       1|  147|       2| success|    yes|[0.0,1.0,0.0,0.0,...|[0.83734101836268...|\n",
      "|   0.0|(23,[2,10,13,14,1...| 34|      admin.| married| tertiary|     no|    899|    yes|  no|       1|  170|       3| failure|    yes|[0.0,0.0,1.0,0.0,...|[-0.1084500265257...|\n",
      "|   0.0|(23,[4,10,13,14,1...| 53|     retired| married| tertiary|     no|   2269|     no|  no|       2|  150|       1| success|    yes|[0.0,0.0,0.0,0.0,...|[-0.4795609426700...|\n",
      "|   0.0|(23,[1,10,12,14,1...| 37|  technician| married|secondary|     no|   5115|    yes|  no|       2|  171|       4| failure|    yes|[0.0,1.0,0.0,0.0,...|[0.95767948650617...|\n",
      "|   0.0|(23,[9,10,12,14,1...| 45|entrepreneur| married|secondary|     no|    781|     no| yes|       2|  126|       2| failure|    yes|[0.0,0.0,0.0,0.0,...|[0.78790279189690...|\n",
      "|   0.0|(23,[7,12,14,16,1...| 46|  unemployed|divorced|secondary|     no|   3354|    yes|  no|       1|  174|       1| success|    yes|[0.0,0.0,0.0,0.0,...|[0.51243046926688...|\n",
      "|   0.0|(23,[0,10,13,14,1...| 40|  management| married| tertiary|     no|   3352|    yes|  no|       2|   27|       1| success|    yes|[1.0,0.0,0.0,0.0,...|[-0.7369547765884...|\n",
      "|   0.0|(23,[1,10,13,14,1...| 32|  technician| married| tertiary|     no|   4654|    yes| yes|       1|  128|       2| failure|    yes|[0.0,1.0,0.0,0.0,...|[-0.1028260652716...|\n",
      "|   0.0|(23,[3,10,12,14,1...| 30| blue-collar| married|secondary|     no|    501|    yes| yes|       1|  177|       1| failure|    yes|[0.0,0.0,0.0,1.0,...|[1.06615145941459...|\n",
      "+------+--------------------+---+------------+--------+---------+-------+-------+-------+----+--------+-----+--------+--------+-------+--------------------+--------------------+\n",
      "only showing top 10 rows\n",
      "\n"
     ]
    }
   ],
   "source": [
    "y = Scaled_Data['labels']\n",
    "\n",
    "Components = 2\n",
    "Pca = PCA(\n",
    "    k = Components, \n",
    "    inputCol = 'scaledFeatures', \n",
    "    outputCol = 'PcaFeatures'\n",
    ").fit(Scaled_Data)\n",
    "\n",
    "df_pca = Pca.transform(Scaled_Data)\n",
    "print('Explained Variance: ', Pca.explainedVariance.toArray())\n",
    "df_pca.show(10)"
   ]
  },
  {
   "cell_type": "code",
   "execution_count": 0,
   "metadata": {
    "colab": {},
    "colab_type": "code",
    "id": "ROjyO9us5OnJ"
   },
   "outputs": [],
   "source": [
    "import matplotlib.pyplot as plt\n",
    "from mpl_toolkits.mplot3d import Axes3D\n",
    "from sklearn import decomposition\n",
    "%matplotlib inline\n",
    "\n",
    "X_pca = df_pca.rdd.map(lambda row: row.PcaFeatures).collect()\n",
    "X_pca = np.array(X_pca)"
   ]
  },
  {
   "cell_type": "code",
   "execution_count": 0,
   "metadata": {
    "colab": {},
    "colab_type": "code",
    "id": "tvTwgbxN5WiQ"
   },
   "outputs": [],
   "source": [
    "plt.style.use('fivethirtyeight')\n",
    "plt.rcParams['figure.figsize'] = 8, 6\n",
    "plt.rcParams['font.size'] = 12\n",
    "\n",
    "\n",
    "\n",
    "def plot_pca(X_pca, y):\n",
    "    \"\"\"a scatter plot of the 2-dimensional iris data\"\"\"\n",
    "    markers = 'x', 'o'\n",
    "    colors = list(plt.rcParams['axes.prop_cycle'])\n",
    "    target = np.unique(y)\n",
    "    for idx, (t, m) in enumerate(zip(target, markers)):\n",
    "        subset = X_pca[y == t]\n",
    "        plt.scatter(subset[:, 0], subset[:, 1],\n",
    "                    c = colors[idx]['color'], label = t, marker = m)\n",
    "\n",
    "    plt.xlabel('PC 1')\n",
    "    plt.ylabel('PC 2')\n",
    "    plt.legend(loc = 'lower left')\n",
    "    plt.tight_layout()\n",
    "    plt.show()"
   ]
  },
  {
   "cell_type": "code",
   "execution_count": 0,
   "metadata": {
    "colab": {},
    "colab_type": "code",
    "id": "RHhfMJuLz5ir"
   },
   "outputs": [],
   "source": [
    "gmm = GaussianMixture.train(features, k=2)\n",
    "predict = gmm.predict(features).collect()\n",
    "labels = scaledData.select('labels').rdd.map(lambda r: r[0]).collect()\n",
    "np.corrcoef(predict, labels)"
   ]
  },
  {
   "cell_type": "code",
   "execution_count": 0,
   "metadata": {
    "colab": {},
    "colab_type": "code",
    "id": "vrF99p-FzKJf"
   },
   "outputs": [],
   "source": [
    "xs = np.array(features.collect()).squeeze()\n",
    "\n",
    "fig, axes = plt.subplots(1, 2, figsize=(10, 4))\n",
    "axes[0].scatter(xs[:, 0], xs[:,1], c=predict)\n",
    "axes[0].set_title('Predicted')\n",
    "axes[1].scatter(xs[:, 0], xs[:,1], c=labels)\n",
    "axes[1].set_title('Labels')"
   ]
  },
  {
   "cell_type": "markdown",
   "metadata": {
    "colab_type": "text",
    "id": "ulp_uILXCv4Z"
   },
   "source": [
    "# Supervised learning"
   ]
  },
  {
   "cell_type": "markdown",
   "metadata": {
    "colab_type": "text",
    "id": "2SsHdh7YC-eN"
   },
   "source": [
    "##  Logistic Regression Model"
   ]
  },
  {
   "cell_type": "code",
   "execution_count": 26,
   "metadata": {
    "colab": {
     "base_uri": "https://localhost:8080/",
     "height": 52
    },
    "colab_type": "code",
    "id": "Vqo_ywFQYxSj",
    "outputId": "7d30b9ff-afbb-4f55-e3b7-730730d7e3b0"
   },
   "outputs": [
    {
     "name": "stdout",
     "output_type": "stream",
     "text": [
      "Training Data Count: 1535\n",
      "Test Data Count: 646\n"
     ]
    }
   ],
   "source": [
    "# Logistic Regression\n",
    "from pyspark.ml.classification import LogisticRegression\n",
    "from pyspark.ml.evaluation import MulticlassClassificationEvaluator\n",
    "\n",
    "train, test = Scaled_Data.randomSplit([0.7, 0.3], seed = 742)\n",
    "print(\"Training Data Count: \" + str(train.count()))\n",
    "print(\"Test Data Count: \" + str(test.count()))\n",
    "\n",
    "log_reg = LogisticRegression(featuresCol = 'scaledFeatures', labelCol = 'labels', maxIter=10)\n",
    "Log_reg_model = log_reg.fit(train)"
   ]
  },
  {
   "cell_type": "code",
   "execution_count": 27,
   "metadata": {
    "colab": {
     "base_uri": "https://localhost:8080/",
     "height": 398
    },
    "colab_type": "code",
    "id": "hANwFUzhgG83",
    "outputId": "ffdcb0df-20ec-4fa0-a850-684e733a5e05"
   },
   "outputs": [
    {
     "data": {
      "image/png": "[encoded data removed]",
      "text/plain": [
       "<Figure size 576x432 with 1 Axes>"
      ]
     },
     "metadata": {
      "tags": []
     },
     "output_type": "display_data"
    }
   ],
   "source": [
    "#Examining coefficients\n",
    "import matplotlib.pyplot as plt\n",
    "import numpy as np\n",
    "\n",
    "Beta = np.sort(Log_reg_model.coefficients)\n",
    "\n",
    "plt.plot(Beta)\n",
    "plt.ylabel('Beta Coefficients')\n",
    "plt.show()"
   ]
  },
  {
   "cell_type": "code",
   "execution_count": 0,
   "metadata": {
    "colab": {},
    "colab_type": "code",
    "id": "rM79VnYqQ8Fo"
   },
   "outputs": [],
   "source": [
    "Training_summary = Log_reg_model.summary"
   ]
  },
  {
   "cell_type": "code",
   "execution_count": 29,
   "metadata": {
    "colab": {
     "base_uri": "https://localhost:8080/",
     "height": 298
    },
    "colab_type": "code",
    "id": "zO24wskfRSAf",
    "outputId": "d4af826e-7443-4627-b828-113e46117175"
   },
   "outputs": [
    {
     "name": "stdout",
     "output_type": "stream",
     "text": [
      "+---+----------+------+--------------------+----------+--------------------+\n",
      "|age|       job|labels|       rawPrediction|prediction|         probability|\n",
      "+---+----------+------+--------------------+----------+--------------------+\n",
      "| 29|management|   0.0|[0.20581400401594...|       0.0|[0.55127263878287...|\n",
      "| 52|management|   0.0|[0.31464400007368...|       0.0|[0.57801840224098...|\n",
      "| 48|management|   0.0|[2.75843511433406...|       0.0|[0.94038796941248...|\n",
      "| 33|management|   0.0|[-0.0148119354374...|       1.0|[0.49629708384002...|\n",
      "| 48|management|   0.0|[-0.4210045818029...|       1.0|[0.39627638754076...|\n",
      "| 49|management|   0.0|[-0.4097384848671...|       1.0|[0.39897482923205...|\n",
      "| 31|management|   0.0|[0.97185596686588...|       0.0|[0.72548927674934...|\n",
      "| 32|management|   0.0|[0.99783494329516...|       0.0|[0.73063268975904...|\n",
      "| 33|management|   0.0|[0.66785620582997...|       0.0|[0.66102296174890...|\n",
      "| 34|management|   0.0|[1.24372136375727...|       0.0|[0.77621110717051...|\n",
      "+---+----------+------+--------------------+----------+--------------------+\n",
      "only showing top 10 rows\n",
      "\n"
     ]
    }
   ],
   "source": [
    "Prediction = Log_reg_model.transform(test)\n",
    "Prediction.select('age', 'job', 'labels', 'rawPrediction', 'prediction', 'probability').show(10)"
   ]
  },
  {
   "cell_type": "code",
   "execution_count": 30,
   "metadata": {
    "colab": {
     "base_uri": "https://localhost:8080/",
     "height": 35
    },
    "colab_type": "code",
    "id": "QxrQqvwRdf5P",
    "outputId": "857a0ed4-d4a4-4b56-8a57-de629196125e"
   },
   "outputs": [
    {
     "name": "stdout",
     "output_type": "stream",
     "text": [
      "Test Error = 0.263158\n"
     ]
    }
   ],
   "source": [
    "# Computing test error\n",
    "evaluator = MulticlassClassificationEvaluator(\n",
    "    labelCol=\"labels\", predictionCol=\"prediction\", metricName=\"accuracy\")\n",
    "accuracy = evaluator.evaluate(Prediction)\n",
    "print(\"Test Error = %g\" % (1.0 - accuracy))"
   ]
  },
  {
   "cell_type": "markdown",
   "metadata": {
    "colab_type": "text",
    "id": "evM5eiJoDHw2"
   },
   "source": [
    "## 5.2 Decision tree"
   ]
  },
  {
   "cell_type": "code",
   "execution_count": 31,
   "metadata": {
    "colab": {
     "base_uri": "https://localhost:8080/",
     "height": 333
    },
    "colab_type": "code",
    "id": "He4mlHb7hBoY",
    "outputId": "c56646d3-01af-49e7-90e8-62a0f7be9ec6"
   },
   "outputs": [
    {
     "name": "stdout",
     "output_type": "stream",
     "text": [
      "Training Data Count: 1535\n",
      "Test Data Count: 646\n",
      "+---+----------+------+-------------+----------+--------------------+\n",
      "|age|       job|labels|rawPrediction|prediction|         probability|\n",
      "+---+----------+------+-------------+----------+--------------------+\n",
      "| 29|management|   0.0|[217.0,119.0]|       0.0|[0.64583333333333...|\n",
      "| 52|management|   0.0|[217.0,119.0]|       0.0|[0.64583333333333...|\n",
      "| 48|management|   0.0| [631.0,54.0]|       0.0|[0.92116788321167...|\n",
      "| 33|management|   0.0|[177.0,300.0]|       1.0|[0.37106918238993...|\n",
      "| 48|management|   0.0|[177.0,300.0]|       1.0|[0.37106918238993...|\n",
      "| 49|management|   0.0|[177.0,300.0]|       1.0|[0.37106918238993...|\n",
      "| 31|management|   0.0|[217.0,119.0]|       0.0|[0.64583333333333...|\n",
      "| 32|management|   0.0|[217.0,119.0]|       0.0|[0.64583333333333...|\n",
      "| 33|management|   0.0|[217.0,119.0]|       0.0|[0.64583333333333...|\n",
      "| 34|management|   0.0|[217.0,119.0]|       0.0|[0.64583333333333...|\n",
      "+---+----------+------+-------------+----------+--------------------+\n",
      "only showing top 10 rows\n",
      "\n"
     ]
    }
   ],
   "source": [
    "#Decision tree\n",
    "train, test = Scaled_Data.randomSplit([0.7, 0.3], seed = 742)\n",
    "print(\"Training Data Count: \" + str(train.count()))\n",
    "print(\"Test Data Count: \" + str(test.count()))\n",
    "\n",
    "from pyspark.ml.classification import DecisionTreeClassifier \n",
    "Decision_tree = DecisionTreeClassifier(featuresCol = 'scaledFeatures', labelCol = 'labels', maxDepth = 3)\n",
    "Decision_tree_model = Decision_tree.fit(train)\n",
    "Prediction = Decision_tree_model.transform(test)\n",
    "Prediction.select('age', 'job', 'labels', 'rawPrediction', 'prediction', 'probability').show(10)"
   ]
  },
  {
   "cell_type": "code",
   "execution_count": 32,
   "metadata": {
    "colab": {
     "base_uri": "https://localhost:8080/",
     "height": 35
    },
    "colab_type": "code",
    "id": "5bKtm0Ipb9JS",
    "outputId": "6644b080-c1a3-42e6-dc31-f73c33797e9c"
   },
   "outputs": [
    {
     "name": "stdout",
     "output_type": "stream",
     "text": [
      "Test Error = 0.22291\n"
     ]
    }
   ],
   "source": [
    "evaluator = MulticlassClassificationEvaluator(\n",
    "    labelCol=\"labels\", predictionCol=\"prediction\", metricName=\"accuracy\")\n",
    "accuracy = evaluator.evaluate(Prediction)\n",
    "print(\"Test Error = %g\" % (1.0 - accuracy))"
   ]
  },
  {
   "cell_type": "markdown",
   "metadata": {
    "colab_type": "text",
    "id": "CaE-Z_IlDKXF"
   },
   "source": [
    "## 5.3 NaiveBayes"
   ]
  },
  {
   "cell_type": "code",
   "execution_count": 0,
   "metadata": {
    "colab": {},
    "colab_type": "code",
    "id": "v2XL6I0t7irt"
   },
   "outputs": [],
   "source": [
    "#Naive Bayes\n",
    "from pyspark.ml.classification import NaiveBayes\n",
    "from pyspark.ml.evaluation import MulticlassClassificationEvaluator"
   ]
  },
  {
   "cell_type": "code",
   "execution_count": 38,
   "metadata": {
    "colab": {
     "base_uri": "https://localhost:8080/",
     "height": 52
    },
    "colab_type": "code",
    "id": "3MGs5qWmg4aC",
    "outputId": "acb47470-3978-4b13-a565-933631e22025"
   },
   "outputs": [
    {
     "name": "stdout",
     "output_type": "stream",
     "text": [
      "Training Dataset Count: 1535\n",
      "Test Dataset Count: 646\n"
     ]
    }
   ],
   "source": [
    "train, test = Scaled_Data.randomSplit([0.7, 0.3], seed = 742)\n",
    "print(\"Training Dataset Count: \" + str(train.count()))\n",
    "print(\"Test Dataset Count: \" + str(test.count()))\n"
   ]
  },
  {
   "cell_type": "code",
   "execution_count": 0,
   "metadata": {
    "colab": {},
    "colab_type": "code",
    "id": "D4Y94vgMh63S"
   },
   "outputs": [],
   "source": [
    "Naive_bayes = NaiveBayes(featuresCol='scaledFeatures', labelCol='labels')\n",
    "Naive_bayes_model = Naive_bayes.fit(train)"
   ]
  },
  {
   "cell_type": "code",
   "execution_count": 36,
   "metadata": {
    "colab": {
     "base_uri": "https://localhost:8080/",
     "height": 298
    },
    "colab_type": "code",
    "id": "iUBWD7YtkB63",
    "outputId": "12fe9d5f-d35f-4704-e413-da60b6334c2e"
   },
   "outputs": [
    {
     "name": "stdout",
     "output_type": "stream",
     "text": [
      "+--------------------+------+----------+--------------------+\n",
      "|      scaledFeatures|labels|prediction|         probability|\n",
      "+--------------------+------+----------+--------------------+\n",
      "|[1.0,0.0,0.0,0.0,...|   0.0|       0.0|[0.71479969025784...|\n",
      "|[1.0,0.0,0.0,0.0,...|   0.0|       0.0|[0.71241655363917...|\n",
      "|[1.0,0.0,0.0,0.0,...|   0.0|       0.0|[0.83907706761111...|\n",
      "|[1.0,0.0,0.0,0.0,...|   0.0|       0.0|[0.53910788436275...|\n",
      "|[1.0,0.0,0.0,0.0,...|   0.0|       0.0|[0.53925399923964...|\n",
      "|[1.0,0.0,0.0,0.0,...|   0.0|       0.0|[0.53327534457948...|\n",
      "|[1.0,0.0,0.0,0.0,...|   0.0|       0.0|[0.83405743649553...|\n",
      "|[1.0,0.0,0.0,0.0,...|   0.0|       0.0|[0.83769169387408...|\n",
      "|[1.0,0.0,0.0,0.0,...|   0.0|       0.0|[0.83323098523096...|\n",
      "|[1.0,0.0,0.0,0.0,...|   0.0|       0.0|[0.83501712379445...|\n",
      "+--------------------+------+----------+--------------------+\n",
      "only showing top 10 rows\n",
      "\n"
     ]
    }
   ],
   "source": [
    "# Making predictions.\n",
    "Prediction = Naive_bayes_model.transform(test)\n",
    "Prediction.select(\"scaledFeatures\", \"labels\", \"prediction\", \"probability\").show(10)"
   ]
  },
  {
   "cell_type": "code",
   "execution_count": 37,
   "metadata": {
    "colab": {
     "base_uri": "https://localhost:8080/",
     "height": 35
    },
    "colab_type": "code",
    "id": "s-cA_ngoqFux",
    "outputId": "863894b9-b996-4fe2-cb98-d5f101e7fa56"
   },
   "outputs": [
    {
     "name": "stdout",
     "output_type": "stream",
     "text": [
      "Test Error = 0.270898\n"
     ]
    }
   ],
   "source": [
    "# Computing error\n",
    "evaluator = MulticlassClassificationEvaluator(\n",
    "    labelCol=\"labels\", predictionCol=\"prediction\", metricName=\"accuracy\")\n",
    "accuracy = evaluator.evaluate(Prediction)\n",
    "print(\"Test Error = %g\" % (1.0 - accuracy))"
   ]
  }
 ],
 "metadata": {
  "colab": {
   "collapsed_sections": [],
   "name": "Copy of Copy of SIT742Assignment2.ipynb",
   "provenance": [],
   "version": "0.3.2"
  },
  "kernelspec": {
   "display_name": "Python 3",
   "language": "python",
   "name": "python3"
  },
  "language_info": {
   "codemirror_mode": {
    "name": "ipython",
    "version": 3
   },
   "file_extension": ".py",
   "mimetype": "text/x-python",
   "name": "python",
   "nbconvert_exporter": "python",
   "pygments_lexer": "ipython3",
   "version": "3.7.3"
  }
 },
 "nbformat": 4,
 "nbformat_minor": 1
}
